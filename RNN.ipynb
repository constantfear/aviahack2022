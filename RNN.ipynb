{
 "cells": [
  {
   "cell_type": "code",
   "execution_count": 1,
   "metadata": {},
   "outputs": [],
   "source": [
    "import matplotlib as mpl\n",
    "import matplotlib.pyplot as plt\n",
    "import numpy as np\n",
    "import os\n",
    "import pandas as pd"
   ]
  },
  {
   "cell_type": "code",
   "execution_count": 2,
   "metadata": {},
   "outputs": [],
   "source": [
    "import tensorflow as tf"
   ]
  },
  {
   "cell_type": "code",
   "execution_count": 3,
   "metadata": {},
   "outputs": [],
   "source": [
    "mpl.rcParams['figure.figsize'] = (8, 6)\n",
    "mpl.rcParams['axes.grid'] = False"
   ]
  },
  {
   "cell_type": "code",
   "execution_count": 4,
   "metadata": {},
   "outputs": [],
   "source": [
    "data_2017 = pd.read_excel(\"Data\\\\1.ОСНОВНОЙ Факт объемы_м3_2017_2022_по дням1.xlsx\", sheet_name=\"2017\")\n",
    "data_2018 = pd.read_excel(\"Data\\\\1.ОСНОВНОЙ Факт объемы_м3_2017_2022_по дням1.xlsx\", sheet_name=\"2018\")\n",
    "data_2019 = pd.read_excel(\"Data\\\\1.ОСНОВНОЙ Факт объемы_м3_2017_2022_по дням1.xlsx\", sheet_name=\"2019\")\n",
    "data_2020 = pd.read_excel(\"Data\\\\1.ОСНОВНОЙ Факт объемы_м3_2017_2022_по дням1.xlsx\", sheet_name=\"2020\")\n",
    "data_2021 = pd.read_excel(\"Data\\\\1.ОСНОВНОЙ Факт объемы_м3_2017_2022_по дням1.xlsx\", sheet_name=\"2021\")\n",
    "data_2017 = data_2017.iloc[1:]\n",
    "data_2018 = data_2018.iloc[1:]\n",
    "data_2019 = data_2019.iloc[1:]\n",
    "data_2020 = data_2020.iloc[1:]\n",
    "data_2021 = data_2021.iloc[1:]"
   ]
  },
  {
   "cell_type": "code",
   "execution_count": 5,
   "metadata": {},
   "outputs": [],
   "source": [
    "x_1 = data_2017['в кубах ,м3']\n",
    "x_2 = data_2018['Unnamed: 0']\n",
    "x_3 = data_2019['Unnamed: 0']\n",
    "x_4 = data_2020[:366]['Unnamed: 0']\n",
    "x = pd.concat([x_1,x_2,x_3,x_4])"
   ]
  },
  {
   "cell_type": "code",
   "execution_count": 6,
   "metadata": {},
   "outputs": [],
   "source": [
    "y_1 = data_2017['Unnamed: 1']\n",
    "y_2 = data_2018['хранение факт']\n",
    "y_3 = data_2019['хранение факт']\n",
    "y_4 = data_2020[:366]['хранение факт']\n",
    "y = pd.concat([y_1,y_2,y_3,y_4])"
   ]
  },
  {
   "cell_type": "code",
   "execution_count": 7,
   "metadata": {},
   "outputs": [],
   "source": [
    "def univariate_data(dataset, start_index, end_index, history_size, target_size):\n",
    "    data = []\n",
    "    labels = []\n",
    "\n",
    "    start_index = start_index + history_size\n",
    "    if end_index is None:\n",
    "        end_index = len(dataset) - target_size\n",
    "\n",
    "    for i in range(start_index, end_index):\n",
    "        indices = range(i-history_size, i)\n",
    "        # Reshape data from (history_size,) to (history_size, 1)\n",
    "        data.append(np.reshape(dataset[indices], (history_size, 1)))\n",
    "        labels.append(dataset[i+target_size])\n",
    "    return np.array(data), np.array(labels)"
   ]
  },
  {
   "cell_type": "code",
   "execution_count": 8,
   "metadata": {},
   "outputs": [],
   "source": [
    "TRAIN_SPLIT = 1000"
   ]
  },
  {
   "cell_type": "code",
   "execution_count": 9,
   "metadata": {},
   "outputs": [],
   "source": [
    "data = y\n",
    "data.index = x"
   ]
  },
  {
   "cell_type": "code",
   "execution_count": 10,
   "metadata": {},
   "outputs": [],
   "source": [
    "data = data.values"
   ]
  },
  {
   "cell_type": "code",
   "execution_count": 11,
   "metadata": {},
   "outputs": [],
   "source": [
    "train_data = data[:TRAIN_SPLIT]\n",
    "test_data = data[TRAIN_SPLIT:]"
   ]
  },
  {
   "cell_type": "code",
   "execution_count": 12,
   "metadata": {},
   "outputs": [],
   "source": [
    "data_min = train_data.min()\n",
    "data_max = train_data.max()"
   ]
  },
  {
   "cell_type": "code",
   "execution_count": 13,
   "metadata": {},
   "outputs": [],
   "source": [
    "def normalize(x):\n",
    "    return (x-data_min)/data_max"
   ]
  },
  {
   "cell_type": "code",
   "execution_count": 14,
   "metadata": {},
   "outputs": [],
   "source": [
    "def invert_normalize(x):\n",
    "    return x*data_max + data_min"
   ]
  },
  {
   "cell_type": "code",
   "execution_count": 15,
   "metadata": {},
   "outputs": [],
   "source": [
    "data = normalize(data)"
   ]
  },
  {
   "cell_type": "code",
   "execution_count": 136,
   "metadata": {},
   "outputs": [],
   "source": [
    "past_history = 150\n",
    "future_target = 30"
   ]
  },
  {
   "cell_type": "code",
   "execution_count": 137,
   "metadata": {},
   "outputs": [],
   "source": [
    "def univariate_data(dataset, start_index, end_index, history_size, target_size):\n",
    "  data = []\n",
    "  labels = []\n",
    "\n",
    "  start_index = start_index + history_size\n",
    "  if end_index is None:\n",
    "    end_index = len(dataset) - target_size\n",
    "\n",
    "  for i in range(start_index, end_index):\n",
    "    indices = range(i-history_size, i)\n",
    "    # Reshape data from (history_size,) to (history_size, 1)\n",
    "    data.append(np.reshape(dataset[indices], (history_size, 1)))\n",
    "    labels.append(dataset[i+target_size])\n",
    "  return np.array(data), np.array(labels)"
   ]
  },
  {
   "cell_type": "code",
   "execution_count": 138,
   "metadata": {},
   "outputs": [
    {
     "data": {
      "text/plain": [
       "array([0.030749575682524195, 0.030749575682524195, 0.030749575682524195,\n",
       "       ..., 0.8118760559052576, 0.7991169623649852, 0.7955914233604362],\n",
       "      dtype=object)"
      ]
     },
     "execution_count": 138,
     "metadata": {},
     "output_type": "execute_result"
    }
   ],
   "source": [
    "data"
   ]
  },
  {
   "cell_type": "code",
   "execution_count": 139,
   "metadata": {},
   "outputs": [],
   "source": [
    "x_train_uni, y_train_uni = univariate_data(data, 0, TRAIN_SPLIT,\n",
    "                                           past_history,\n",
    "                                           future_target)\n",
    "x_val_uni, y_val_uni = univariate_data(data, TRAIN_SPLIT, None,\n",
    "                                       past_history,\n",
    "                                       future_target)"
   ]
  },
  {
   "cell_type": "code",
   "execution_count": 140,
   "metadata": {},
   "outputs": [
    {
     "name": "stdout",
     "output_type": "stream",
     "text": [
      "Single window of past history\n",
      "[[0.030749575682524195]\n",
      " [0.030749575682524195]\n",
      " [0.030749575682524195]\n",
      " [0.030749575682524195]\n",
      " [0.030749575682524195]\n",
      " [0.030749575682524195]\n",
      " [0.030749575682524195]\n",
      " [0.030749575682524195]\n",
      " [0.030749575682524195]\n",
      " [0.0333698905769528]\n",
      " [0.03379161219502079]\n",
      " [0.032928023021716]\n",
      " [0.03451283674566565]\n",
      " [0.03451283674566565]\n",
      " [0.03451283674566565]\n",
      " [0.0316561428551225]\n",
      " [0.037639486194271314]\n",
      " [0.03776036181728437]\n",
      " [0.04171836693972482]\n",
      " [0.03809881356172113]\n",
      " [0.03809881356172113]\n",
      " [0.03809881356172113]\n",
      " [0.05148108809175004]\n",
      " [0.04722895228664454]\n",
      " [0.04699794554044168]\n",
      " [0.06714119658433693]\n",
      " [0.06443089650388757]\n",
      " [0.06443089650388757]\n",
      " [0.06443089650388757]\n",
      " [0.07079701264924448]\n",
      " [0.06817535469233806]\n",
      " [0.06971450429203817]\n",
      " [0.07207963731566137]\n",
      " [0.06786242113498178]\n",
      " [0.06786242113498178]\n",
      " [0.06786242113498178]\n",
      " [0.06419854669520676]\n",
      " [0.06267148465780774]\n",
      " [0.053098135315169694]\n",
      " [0.052008911645573856]\n",
      " [0.04828325633181422]\n",
      " [0.04828325633181422]\n",
      " [0.04828325633181422]\n",
      " [0.04435211245893246]\n",
      " [0.04039545039897009]\n",
      " [0.03303681108242773]\n",
      " [0.02582590863845687]\n",
      " [0.022080107387528435]\n",
      " [0.022080107387528435]\n",
      " [0.022080107387528435]\n",
      " [0.02164764126963706]\n",
      " [0.018801691878917406]\n",
      " [0.030064613818783083]\n",
      " [0.030064613818783083]\n",
      " [0.030064613818783083]\n",
      " [0.030064613818783083]\n",
      " [0.030064613818783083]\n",
      " [0.03150034760768316]\n",
      " [0.031230392049620644]\n",
      " [0.028697376216257012]\n",
      " [0.03196773335000057]\n",
      " [0.03060855412234209]\n",
      " [0.03060855412234209]\n",
      " [0.03060855412234209]\n",
      " [0.030186832504274095]\n",
      " [0.038196857122609236]\n",
      " [0.038196857122609236]\n",
      " [0.032349163093730836]\n",
      " [0.02884779921378442]\n",
      " [0.02884779921378442]\n",
      " [0.02884779921378442]\n",
      " [0.05174567139990062]\n",
      " [0.053920089551658563]\n",
      " [0.06676782521547402]\n",
      " [0.06565711254623129]\n",
      " [0.05873228241005814]\n",
      " [0.05873228241005814]\n",
      " [0.05873228241005814]\n",
      " [0.05754904436700768]\n",
      " [0.06029157794692729]\n",
      " [0.05744025630629595]\n",
      " [0.05502677303346755]\n",
      " [0.057434884056384264]\n",
      " [0.057434884056384264]\n",
      " [0.057434884056384264]\n",
      " [0.07802134571799427]\n",
      " [0.09507152387523193]\n",
      " [0.10381083141907965]\n",
      " [0.10486647852672741]\n",
      " [0.1148548341750438]\n",
      " [0.1148548341750438]\n",
      " [0.1148548341750438]\n",
      " [0.11851065023995136]\n",
      " [0.12356593740685512]\n",
      " [0.11064433330675386]\n",
      " [0.11525640985594286]\n",
      " [0.10589123519738286]\n",
      " [0.10589123519738286]\n",
      " [0.10589123519738286]\n",
      " [0.09929545536830103]\n",
      " [0.09074686269631846]\n",
      " [0.10235629475548837]\n",
      " [0.0956799311777312]\n",
      " [0.095192399498245]\n",
      " [0.095192399498245]\n",
      " [0.095192399498245]\n",
      " [0.08690570400945757]\n",
      " [0.09372174608491889]\n",
      " [0.10846588596756206]\n",
      " [0.11172012635157054]\n",
      " [0.12629772648695112]\n",
      " [0.12629772648695112]\n",
      " [0.12629772648695112]\n",
      " [0.12777643827514482]\n",
      " [0.12219198449193928]\n",
      " [0.13437624729166037]\n",
      " [0.12982192242902224]\n",
      " [0.12434894283148433]\n",
      " [0.12434894283148433]\n",
      " [0.12434894283148433]\n",
      " [0.12434894283148433]\n",
      " [0.11605150284287354]\n",
      " [0.11107948554960101]\n",
      " [0.10069626953277519]\n",
      " [0.09743665689885501]\n",
      " [0.09743665689885501]\n",
      " [0.09743665689885501]\n",
      " [0.09743665689885501]\n",
      " [0.09743665689885501]\n",
      " [0.0964159294156333]\n",
      " [0.10274041062417466]\n",
      " [0.1165967862089105]\n",
      " [0.1165967862089105]\n",
      " [0.1165967862089105]\n",
      " [0.1176537763790362]\n",
      " [0.1160703057175645]\n",
      " [0.11650680102288961]\n",
      " [0.11063493186940843]\n",
      " [0.11134272579527413]\n",
      " [0.11134272579527413]\n",
      " [0.11134272579527413]\n",
      " [0.11472590017716326]\n",
      " [0.11115066786093104]\n",
      " [0.11354803438402437]\n",
      " [0.11501062942248301]\n",
      " [0.11314780176560325]\n",
      " [0.11314780176560325]\n",
      " [0.11314780176560325]\n",
      " [0.10747201973389901]\n",
      " [0.1078480772277176]]\n",
      "\n",
      " Target temperature to predict\n",
      "0.12303274160311949\n"
     ]
    }
   ],
   "source": [
    "print ('Single window of past history')\n",
    "print (x_train_uni[0])\n",
    "print ('\\n Target temperature to predict')\n",
    "print (y_train_uni[0])"
   ]
  },
  {
   "cell_type": "code",
   "execution_count": 141,
   "metadata": {},
   "outputs": [],
   "source": [
    "BATCH_SIZE = 200\n",
    "BUFFER_SIZE = 10000\n",
    "\n",
    "x_train_uni = np.asarray(x_train_uni).astype('float32')\n",
    "y_train_uni = np.asarray(y_train_uni).astype('float32')\n",
    "x_val_uni = np.asarray(x_val_uni).astype('float32')\n",
    "y_val_uni = np.asarray(y_val_uni).astype('float32')\n",
    "\n",
    "train_univariate = tf.data.Dataset.from_tensor_slices((x_train_uni, y_train_uni))\n",
    "train_univariate = train_univariate.cache().shuffle(BUFFER_SIZE).batch(BATCH_SIZE).repeat()\n",
    "\n",
    "val_univariate = tf.data.Dataset.from_tensor_slices((x_val_uni, y_val_uni))\n",
    "val_univariate = val_univariate.batch(BATCH_SIZE).repeat()"
   ]
  },
  {
   "cell_type": "code",
   "execution_count": 142,
   "metadata": {},
   "outputs": [],
   "source": [
    "def create_time_steps(length):\n",
    "    return list(range(-length, 0))"
   ]
  },
  {
   "cell_type": "code",
   "execution_count": 143,
   "metadata": {},
   "outputs": [],
   "source": [
    "def show_plot(plot_data, delta, title):\n",
    "  labels = ['History', 'True Future', 'Model Prediction']\n",
    "  marker = ['.-', 'rx', 'go']\n",
    "  time_steps = create_time_steps(plot_data[0].shape[0])\n",
    "  if delta:\n",
    "    future = delta\n",
    "  else:\n",
    "    future = 0\n",
    "\n",
    "  plt.title(title)\n",
    "  for i, x in enumerate(plot_data):\n",
    "    if i:\n",
    "      plt.plot(future, plot_data[i], marker[i], markersize=10,\n",
    "               label=labels[i])\n",
    "    else:\n",
    "      plt.plot(time_steps, plot_data[i].flatten(), marker[i], label=labels[i])\n",
    "  plt.legend()\n",
    "  plt.xlim([time_steps[0], (future+5)*2])\n",
    "  plt.xlabel('Time-Step')\n",
    "  return plt"
   ]
  },
  {
   "cell_type": "code",
   "execution_count": 144,
   "metadata": {},
   "outputs": [
    {
     "data": {
      "text/plain": [
       "<module 'matplotlib.pyplot' from 'd:\\\\Anaconda\\\\lib\\\\site-packages\\\\matplotlib\\\\pyplot.py'>"
      ]
     },
     "execution_count": 144,
     "metadata": {},
     "output_type": "execute_result"
    },
    {
     "data": {
      "image/png": "[encoded data removed]",
      "text/plain": [
       "<Figure size 576x432 with 1 Axes>"
      ]
     },
     "metadata": {
      "needs_background": "light"
     },
     "output_type": "display_data"
    }
   ],
   "source": [
    "show_plot([x_train_uni[0], y_train_uni[0]], 0, 'Sample Example')"
   ]
  },
  {
   "cell_type": "code",
   "execution_count": 145,
   "metadata": {},
   "outputs": [],
   "source": [
    "simple_lstm_model = tf.keras.models.Sequential([\n",
    "    tf.keras.layers.LSTM(32, input_shape=x_train_uni.shape[-2:]),\n",
    "    tf.keras.layers.Dense(30)\n",
    "])\n",
    "\n",
    "simple_lstm_model.compile(optimizer='adam', loss='mae')"
   ]
  },
  {
   "cell_type": "code",
   "execution_count": 146,
   "metadata": {},
   "outputs": [
    {
     "name": "stdout",
     "output_type": "stream",
     "text": [
      "7/7 [==============================] - 1s 18ms/step\n",
      "(200, 30)\n"
     ]
    }
   ],
   "source": [
    "for x, y in val_univariate.take(1):\n",
    "    print(simple_lstm_model.predict(x).shape)"
   ]
  },
  {
   "cell_type": "code",
   "execution_count": 147,
   "metadata": {},
   "outputs": [
    {
     "name": "stdout",
     "output_type": "stream",
     "text": [
      "Epoch 1/10\n",
      "200/200 [==============================] - 24s 101ms/step - loss: 0.0634 - val_loss: 0.0831\n",
      "Epoch 2/10\n",
      "200/200 [==============================] - 15s 75ms/step - loss: 0.0466 - val_loss: 0.0833\n",
      "Epoch 3/10\n",
      "200/200 [==============================] - 15s 74ms/step - loss: 0.0447 - val_loss: 0.0965\n",
      "Epoch 4/10\n",
      "200/200 [==============================] - 15s 73ms/step - loss: 0.0441 - val_loss: 0.0954\n",
      "Epoch 5/10\n",
      "200/200 [==============================] - 15s 73ms/step - loss: 0.0435 - val_loss: 0.1059\n",
      "Epoch 6/10\n",
      "200/200 [==============================] - 15s 73ms/step - loss: 0.0434 - val_loss: 0.1118\n",
      "Epoch 7/10\n",
      "200/200 [==============================] - 15s 73ms/step - loss: 0.0426 - val_loss: 0.1125\n",
      "Epoch 8/10\n",
      "200/200 [==============================] - 15s 73ms/step - loss: 0.0420 - val_loss: 0.1314\n",
      "Epoch 9/10\n",
      "200/200 [==============================] - 15s 73ms/step - loss: 0.0407 - val_loss: 0.0773\n",
      "Epoch 10/10\n",
      "200/200 [==============================] - 15s 76ms/step - loss: 0.0383 - val_loss: 0.0877\n"
     ]
    },
    {
     "data": {
      "text/plain": [
       "<keras.callbacks.History at 0x245a0e40e80>"
      ]
     },
     "execution_count": 147,
     "metadata": {},
     "output_type": "execute_result"
    }
   ],
   "source": [
    "EVALUATION_INTERVAL = 200\n",
    "EPOCHS = 10\n",
    "\n",
    "simple_lstm_model.fit(train_univariate, epochs=EPOCHS,\n",
    "                      steps_per_epoch=EVALUATION_INTERVAL,\n",
    "                      validation_data=val_univariate, validation_steps=50)"
   ]
  },
  {
   "cell_type": "code",
   "execution_count": 149,
   "metadata": {},
   "outputs": [
    {
     "name": "stdout",
     "output_type": "stream",
     "text": [
      "7/7 [==============================] - 0s 21ms/step\n"
     ]
    },
    {
     "data": {
      "text/plain": [
       "array([0.14263976, 0.14831679, 0.14785297, 0.14208317, 0.14705154,\n",
       "       0.14482018, 0.14359704, 0.14651687, 0.15028673, 0.146955  ,\n",
       "       0.14520898, 0.14653894, 0.14634462, 0.14283581, 0.14481309,\n",
       "       0.1438478 , 0.14591548, 0.14640088, 0.1452828 , 0.1404464 ,\n",
       "       0.14726098, 0.14592491, 0.14656727, 0.14762092, 0.14726622,\n",
       "       0.14692019, 0.14452687, 0.14463522, 0.14540471, 0.14225918],\n",
       "      dtype=float32)"
      ]
     },
     "execution_count": 149,
     "metadata": {},
     "output_type": "execute_result"
    }
   ],
   "source": [
    "simple_lstm_model.predict(x)[0]"
   ]
  },
  {
   "cell_type": "code",
   "execution_count": 153,
   "metadata": {},
   "outputs": [
    {
     "data": {
      "text/plain": [
       "0.07454281"
      ]
     },
     "execution_count": 153,
     "metadata": {},
     "output_type": "execute_result"
    }
   ],
   "source": [
    "y[0].numpy()"
   ]
  },
  {
   "cell_type": "code",
   "execution_count": 159,
   "metadata": {},
   "outputs": [
    {
     "name": "stdout",
     "output_type": "stream",
     "text": [
      "7/7 [==============================] - 0s 24ms/step\n"
     ]
    },
    {
     "data": {
      "image/png": "[encoded data removed]",
      "text/plain": [
       "<Figure size 576x432 with 1 Axes>"
      ]
     },
     "metadata": {
      "needs_background": "light"
     },
     "output_type": "display_data"
    },
    {
     "name": "stdout",
     "output_type": "stream",
     "text": [
      "3/3 [==============================] - 0s 21ms/step\n"
     ]
    },
    {
     "data": {
      "image/png": "[encoded data removed]",
      "text/plain": [
       "<Figure size 576x432 with 1 Axes>"
      ]
     },
     "metadata": {
      "needs_background": "light"
     },
     "output_type": "display_data"
    }
   ],
   "source": [
    "for x, y in val_univariate.take(2):\n",
    "  # print(x[0].numpy())\n",
    "  plot = show_plot([x[0].numpy(), y[0].numpy(),\n",
    "                    simple_lstm_model.predict(x)[0][0]], 0, 'Simple LSTM model')\n",
    "  plot.show()"
   ]
  },
  {
   "cell_type": "code",
   "execution_count": null,
   "metadata": {},
   "outputs": [],
   "source": []
  }
 ],
 "metadata": {
  "kernelspec": {
   "display_name": "Python 3.9.12 ('base')",
   "language": "python",
   "name": "python3"
  },
  "language_info": {
   "codemirror_mode": {
    "name": "ipython",
    "version": 3
   },
   "file_extension": ".py",
   "mimetype": "text/x-python",
   "name": "python",
   "nbconvert_exporter": "python",
   "pygments_lexer": "ipython3",
   "version": "3.9.12"
  },
  "orig_nbformat": 4,
  "vscode": {
   "interpreter": {
    "hash": "88279d2366fe020547cde40dd65aa0e3aa662a6ec1f3ca12d88834876c85e1a6"
   }
  }
 },
 "nbformat": 4,
 "nbformat_minor": 2
}
